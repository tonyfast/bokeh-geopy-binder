{
 "cells": [
  {
   "cell_type": "markdown",
   "metadata": {},
   "source": [
    "# Welcome to Insight!Insight!Insight!\n",
    "\n",
    "> Welcome to your first day and last day at __Insight!Insight!Insight!__\n",
    "\n",
    "## What We Do\n",
    "\n",
    "We use data to settle the score.  When everyone is thinking about what we _could_ do.  We make charts!  When folks\n",
    "\"truly believe\" that something has happened.  We show data!\n",
    "\n",
    "We make insights on real data.  Our data is available through the internet.  Our code is open source.  Our collaboration is positive.  Everyone in the organization has a different past and a confusing future.  We will use everyone's individual skills and experience to tell honest stories about data.\n",
    "\n",
    "# On your first day\n",
    "\n",
    "* Introduce yourself on the [company chat]() hosted by Gitter\n",
    "* Use the [company computer]() hosted by Binder\n",
    "\n",
    "**OR**\n",
    "\n",
    "* Download the [company code]() on Github\n",
    "* You can check the [company blog]() hosted by Github Pages - _typically, we are not that good at updating it._\n",
    "\n",
    "\n"
   ]
  },
  {
   "cell_type": "code",
   "execution_count": null,
   "metadata": {
    "collapsed": true
   },
   "outputs": [],
   "source": []
  }
 ],
 "metadata": {
  "kernelspec": {
   "display_name": "Python 3",
   "language": "python",
   "name": "python3"
  },
  "language_info": {
   "codemirror_mode": {
    "name": "ipython",
    "version": 3
   },
   "file_extension": ".py",
   "mimetype": "text/x-python",
   "name": "python",
   "nbconvert_exporter": "python",
   "pygments_lexer": "ipython3",
   "version": "3.5.1"
  }
 },
 "nbformat": 4,
 "nbformat_minor": 0
}
