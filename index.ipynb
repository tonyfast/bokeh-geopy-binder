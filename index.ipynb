{
 "cells": [
  {
   "cell_type": "markdown",
   "metadata": {},
   "source": [
    "# Welcome to Insight!Insight!Insight!\n",
    "\n",
    "> Welcome to your first day and last day at __Insight!Insight!Insight!__\n",
    "\n",
    "## What We Do\n",
    "\n",
    "We use data to settle the score.  When everyone is thinking about what we _could_ do.  We make charts!  When folks\n",
    "\"truly believe\" that something has happened.  We show data!\n",
    "\n",
    "We make insights on real data.  Our data is available through the internet.  Our code is open source.  Our collaboration is positive.  Everyone in the organization has a different past and a confusing future.  We will use everyone's individual skills and experience to tell honest stories about data.\n",
    "\n",
    "# On your first day\n",
    "\n",
    "* Introduce yourself on the [company chat]() hosted by Gitter\n",
    "* Use the [company computer]() hosted by Binder\n",
    "\n",
    "**OR**\n",
    "\n",
    "* Download the [company code]() on Github\n",
    "* You can check the [company blog]() hosted by Github Pages - _typically, we are not that good at updating it._\n",
    "\n",
    "# The Data We Work With\n",
    "\n",
    "We work with the NYC Department of Health Data.  We want to help the city understand this\n",
    "large dataset better.  The dataset has been split into the five boros in ``../_data``.  The code to split the data is ``/notebook/Excel_to_CSV.csv``\n",
    "\n",
    "As a group, we will talk about what insights we could capture from our current __OR__ augment with other data.\n",
    "\n",
    "\n",
    "# Index of Codes\n",
    "\n",
    "* [``notebook/Excel_to_CSV.ipynb``](notebook/Excel_to_CSV.ipynb) converts the Excel version of the New York City Department of Health Records into a CSV file for each boro.\n",
    "\n",
    "    * _data/BRONX.csv         \n",
    "    * _data/MANHATTAN.csv    \n",
    "    * _data/BROOKLYN.csv      \n",
    "    * _data/QUEENS.csv        \n",
    "    * _data/STATEN ISLAND.csv\n",
    "    \n",
    "* [``notebook/Plotting_Businesses_In_Google_Maps.ipynb``](notebook/Plotting_Businesses_In_Google_Maps.ipynb) shows a \n",
    "strategy to plot business information on a google map.\n",
    "\n",
    "* [``notebook/Exploring-Staten-Island.ipynb``](notebook/Exploring-Staten-Island.ipynb) Begins to explore the\n",
    "tabular data in the NYC dataset.\n",
    "\n",
    "* [``notebook/playground.ipynb``](notebook/playground.ipynb) Will create a playground to explore with other day and code.  The [10 minutes to Pandas](http://nbviewer.jupyter.org/gist/wesm/4757075/PandasTour.ipynb) is essential \n",
    "for data science. [*](https://www.wakari.io/notebook/bundles/10%20Minutes%20to%20Pandas/10%20Minutes%20to%20Pandas.ipynb)\n",
    "\n",
    "\n",
    "> Sorry, you cannot save the Notebooks will you are on Binder.  I suggest that you copy and paste code snippets into [``gist.github.com``](gist.github.com)."
   ]
  },
  {
   "cell_type": "code",
   "execution_count": null,
   "metadata": {
    "collapsed": true
   },
   "outputs": [],
   "source": []
  }
 ],
 "metadata": {
  "kernelspec": {
   "display_name": "Python 3",
   "language": "python",
   "name": "python3"
  },
  "language_info": {
   "codemirror_mode": {
    "name": "ipython",
    "version": 3
   },
   "file_extension": ".py",
   "mimetype": "text/x-python",
   "name": "python",
   "nbconvert_exporter": "python",
   "pygments_lexer": "ipython3",
   "version": "3.5.1"
  }
 },
 "nbformat": 4,
 "nbformat_minor": 0
}
