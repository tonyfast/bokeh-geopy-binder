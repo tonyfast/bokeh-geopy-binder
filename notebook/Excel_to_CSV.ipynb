{
 "cells": [
  {
   "cell_type": "markdown",
   "metadata": {},
   "source": [
    "> This notebook truncates the original data for the class. The data is:\n",
    "\n",
    "1. Read in as  CSV\n",
    "2. Saved as Multiple CSV's separated by boro in ``../_data``\n",
    "3. A description of the cleaning is available in the first blog post"
   ]
  },
  {
   "cell_type": "code",
   "execution_count": 2,
   "metadata": {
    "collapsed": true
   },
   "outputs": [],
   "source": [
    "import pandas"
   ]
  },
  {
   "cell_type": "markdown",
   "metadata": {},
   "source": [
    "> Pandas can read excel files natively.  They are not optimal for read write operations.  We will use ``CSV``'s instead"
   ]
  },
  {
   "cell_type": "code",
   "execution_count": 4,
   "metadata": {
    "collapsed": false
   },
   "outputs": [
    {
     "name": "stdout",
     "output_type": "stream",
     "text": [
      "CPU times: user 1min 28s, sys: 956 ms, total: 1min 29s\n",
      "Wall time: 1min 30s\n"
     ]
    }
   ],
   "source": [
    "%%time\n",
    "df = pandas.read_excel( '../assets/DOHMH_New_York_City_Restaurant_Inspection_Results.xlsx' )"
   ]
  },
  {
   "cell_type": "code",
   "execution_count": 5,
   "metadata": {
    "collapsed": false
   },
   "outputs": [],
   "source": [
    "boros = df[df.BORO.apply( lambda v: not v in ['Missing'])]\n",
    "num_reviews = boros.CAMIS.groupby(boros.CAMIS).count()"
   ]
  },
  {
   "cell_type": "code",
   "execution_count": 10,
   "metadata": {
    "collapsed": false
   },
   "outputs": [],
   "source": [
    "boros = boros.reset_index()"
   ]
  },
  {
   "cell_type": "markdown",
   "metadata": {},
   "source": [
    "> Only keep restaurants with >45 reviews."
   ]
  },
  {
   "cell_type": "code",
   "execution_count": 13,
   "metadata": {
    "collapsed": false
   },
   "outputs": [],
   "source": [
    "top_reviewed = num_reviews[num_reviews>45].copy()\n",
    "top_reviewed = boros[boros.CAMIS.apply( lambda i: i in top_reviewed.index )].copy()"
   ]
  },
  {
   "cell_type": "code",
   "execution_count": 14,
   "metadata": {
    "collapsed": false
   },
   "outputs": [],
   "source": [
    "for boro in boros.BORO.unique():\n",
    "    top_reviewed[top_reviewed.BORO == boro].to_csv( '../_data/{boro}.csv'.format(boro=boro), index=False)"
   ]
  },
  {
   "cell_type": "markdown",
   "metadata": {},
   "source": [
    "------\n",
    "## stopped parsing data\n",
    "## creating a blog post"
   ]
  },
  {
   "cell_type": "code",
   "execution_count": 40,
   "metadata": {
    "collapsed": false
   },
   "outputs": [
    {
     "data": {
      "text/html": [
       "\n",
       "\n",
       "    <script type=\"text/javascript\">\n",
       "      \n",
       "      (function(global) {\n",
       "        function now() {\n",
       "          return new Date();\n",
       "        }\n",
       "      \n",
       "        if (typeof (window._bokeh_onload_callbacks) === \"undefined\") {\n",
       "          window._bokeh_onload_callbacks = [];\n",
       "        }\n",
       "      \n",
       "        function run_callbacks() {\n",
       "          window._bokeh_onload_callbacks.forEach(function(callback) { callback() });\n",
       "          delete window._bokeh_onload_callbacks\n",
       "          console.info(\"Bokeh: all callbacks have finished\");\n",
       "        }\n",
       "      \n",
       "        function load_libs(js_urls, callback) {\n",
       "          window._bokeh_onload_callbacks.push(callback);\n",
       "          if (window._bokeh_is_loading > 0) {\n",
       "            console.log(\"Bokeh: BokehJS is being loaded, scheduling callback at\", now());\n",
       "            return null;\n",
       "          }\n",
       "          if (js_urls == null || js_urls.length === 0) {\n",
       "            run_callbacks();\n",
       "            return null;\n",
       "          }\n",
       "          console.log(\"Bokeh: BokehJS not loaded, scheduling load and callback at\", now());\n",
       "          window._bokeh_is_loading = js_urls.length;\n",
       "          for (var i = 0; i < js_urls.length; i++) {\n",
       "            var url = js_urls[i];\n",
       "            var s = document.createElement('script');\n",
       "            s.src = url;\n",
       "            s.async = false;\n",
       "            s.onreadystatechange = s.onload = function() {\n",
       "              window._bokeh_is_loading--;\n",
       "              if (window._bokeh_is_loading === 0) {\n",
       "                console.log(\"Bokeh: all BokehJS libraries loaded\");\n",
       "                run_callbacks()\n",
       "              }\n",
       "            };\n",
       "            s.onerror = function() {\n",
       "              console.warn(\"failed to load library \" + url);\n",
       "            };\n",
       "            console.log(\"Bokeh: injecting script tag for BokehJS library: \", url);\n",
       "            document.getElementsByTagName(\"head\")[0].appendChild(s);\n",
       "          }\n",
       "        };var js_urls = ['https://cdn.pydata.org/bokeh/release/bokeh-0.11.0.min.js', 'https://cdn.pydata.org/bokeh/release/bokeh-widgets-0.11.0.min.js', 'https://cdn.pydata.org/bokeh/release/bokeh-compiler-0.11.0.min.js'];\n",
       "      \n",
       "        var inline_js = [\n",
       "          function(Bokeh) {\n",
       "            Bokeh.set_log_level(\"info\");\n",
       "          },\n",
       "          function(Bokeh) {\n",
       "            console.log(\"Bokeh: injecting CSS: https://cdn.pydata.org/bokeh/release/bokeh-0.11.0.min.css\");\n",
       "            Bokeh.embed.inject_css(\"https://cdn.pydata.org/bokeh/release/bokeh-0.11.0.min.css\");\n",
       "            console.log(\"Bokeh: injecting CSS: https://cdn.pydata.org/bokeh/release/bokeh-widgets-0.11.0.min.css\");\n",
       "            Bokeh.embed.inject_css(\"https://cdn.pydata.org/bokeh/release/bokeh-widgets-0.11.0.min.css\");\n",
       "          }\n",
       "        ];\n",
       "      \n",
       "        function run_inline_js() {\n",
       "          for (var i = 0; i < inline_js.length; i++) {\n",
       "            inline_js[i](window.Bokeh);\n",
       "          }\n",
       "        }\n",
       "      \n",
       "        if (window._bokeh_is_loading === 0) {\n",
       "          console.log(\"Bokeh: BokehJS loaded, going straight to plotting\");\n",
       "          run_inline_js();\n",
       "        } else {\n",
       "          load_libs(js_urls, function() {\n",
       "            console.log(\"Bokeh: BokehJS plotting callback run at\", now());\n",
       "            run_inline_js();\n",
       "          });\n",
       "        }\n",
       "      }(this));\n",
       "    </script>\n",
       "    <div>\n",
       "        <a href=\"http://bokeh.pydata.org\" target=\"_blank\" class=\"bk-logo bk-logo-small bk-logo-notebook\"></a>\n",
       "        <span>BokehJS successfully loaded.</span>\n",
       "    </div>"
      ]
     },
     "metadata": {},
     "output_type": "display_data"
    }
   ],
   "source": [
    "import IPython, jinja2, numpy, bokeh.plotting, bokeh.charts, markdown, yaml, datetime\n",
    "%matplotlib inline\n",
    "bokeh.plotting.output_notebook(resources=bokeh.resources.CDN)"
   ]
  },
  {
   "cell_type": "code",
   "execution_count": 57,
   "metadata": {
    "collapsed": false
   },
   "outputs": [],
   "source": [
    "post = jinja2.Template(\"\"\"\n",
    "> All of the analysis for this post was created in [``/notebook/Excel_to_CSV.ipynb``](https://github.com/tonyfast/insight/blob/gh-pages/notebook/Excel_to_CSV.ipynb)\n",
    "The raw Excel dataset contains __{{df.shape[0]}}__ rows.  __{{(df.BORO=='Missing').sum()}}__ were removed\n",
    "because they do not have a boro identified. Also, restaurants with less 45 samples were removed; this was only done to create\n",
    "a more managable dataset for the class.  A total of __{{top_reviewed.shape[0]}}__ restaurants are being consider; this is \n",
    "{{top_reviewed.shape[0]/df.shape[0]*100}}% of the raw data.\n",
    "used for the class.\n",
    "\n",
    "* The dataset has {{df.shape[1]}} columns.  The fields  are\n",
    "{% for c in df.columns %}\n",
    "    * __{{c}}__\n",
    "{% endfor %}\n",
    "\n",
    "A sample of the table is \n",
    "\n",
    "{{boros.iloc[::15000].iloc[:5].to_html()}}\n",
    "\n",
    "# All of the Boros are accounted for.\n",
    "\n",
    "{% for boro in boros.BORO.unique().tolist() %}\n",
    "* [{{boro}}](https://github.com/tonyfast/insight/blob/gh-pages/_data/{{boro}}.csv) - {{pandas.read_csv('../_data/{boro}.csv'.format(boro=boro)).shape[0]}} rows\n",
    "{% endfor %}\n",
    "\n",
    "\n",
    "\"\"\").render(**globals())\n",
    "\n",
    "post = \"\"\"---\n",
    "layout: post\n",
    "title: Parsing the Raw Data\n",
    "---\n",
    "\"\"\" + post\n",
    "\n",
    "fn = date.strftime('%Y-%m-%d') + '-' + next(yaml.safe_load_all(post))['title'].replace(' ','-') + '.markdown'\n",
    "with open('../_posts/'+fn,'w') as f:\n",
    "    f.write(post)"
   ]
  },
  {
   "cell_type": "code",
   "execution_count": null,
   "metadata": {
    "collapsed": true
   },
   "outputs": [],
   "source": []
  }
 ],
 "metadata": {
  "kernelspec": {
   "display_name": "Python 3",
   "language": "python",
   "name": "python3"
  },
  "language_info": {
   "codemirror_mode": {
    "name": "ipython",
    "version": 3
   },
   "file_extension": ".py",
   "mimetype": "text/x-python",
   "name": "python",
   "nbconvert_exporter": "python",
   "pygments_lexer": "ipython3",
   "version": "3.5.1"
  }
 },
 "nbformat": 4,
 "nbformat_minor": 0
}
