{
 "cells": [
  {
   "cell_type": "markdown",
   "metadata": {},
   "source": [
    "# New York City Department of Health Data\n",
    "\n",
    "Augmenting the addresses with Open Maps data using [``geopy`` on PyPi](https://pypi.python.org/pypi/geopy)."
   ]
  },
  {
   "cell_type": "code",
   "execution_count": 2,
   "metadata": {
    "collapsed": false
   },
   "outputs": [
    {
     "data": {
      "text/html": [
       "\n",
       "\n",
       "    <script type=\"text/javascript\">\n",
       "      \n",
       "      (function(global) {\n",
       "        function now() {\n",
       "          return new Date();\n",
       "        }\n",
       "      \n",
       "        if (typeof (window._bokeh_onload_callbacks) === \"undefined\") {\n",
       "          window._bokeh_onload_callbacks = [];\n",
       "        }\n",
       "      \n",
       "        function run_callbacks() {\n",
       "          window._bokeh_onload_callbacks.forEach(function(callback) { callback() });\n",
       "          delete window._bokeh_onload_callbacks\n",
       "          console.info(\"Bokeh: all callbacks have finished\");\n",
       "        }\n",
       "      \n",
       "        function load_libs(js_urls, callback) {\n",
       "          window._bokeh_onload_callbacks.push(callback);\n",
       "          if (window._bokeh_is_loading > 0) {\n",
       "            console.log(\"Bokeh: BokehJS is being loaded, scheduling callback at\", now());\n",
       "            return null;\n",
       "          }\n",
       "          if (js_urls == null || js_urls.length === 0) {\n",
       "            run_callbacks();\n",
       "            return null;\n",
       "          }\n",
       "          console.log(\"Bokeh: BokehJS not loaded, scheduling load and callback at\", now());\n",
       "          window._bokeh_is_loading = js_urls.length;\n",
       "          for (var i = 0; i < js_urls.length; i++) {\n",
       "            var url = js_urls[i];\n",
       "            var s = document.createElement('script');\n",
       "            s.src = url;\n",
       "            s.async = false;\n",
       "            s.onreadystatechange = s.onload = function() {\n",
       "              window._bokeh_is_loading--;\n",
       "              if (window._bokeh_is_loading === 0) {\n",
       "                console.log(\"Bokeh: all BokehJS libraries loaded\");\n",
       "                run_callbacks()\n",
       "              }\n",
       "            };\n",
       "            s.onerror = function() {\n",
       "              console.warn(\"failed to load library \" + url);\n",
       "            };\n",
       "            console.log(\"Bokeh: injecting script tag for BokehJS library: \", url);\n",
       "            document.getElementsByTagName(\"head\")[0].appendChild(s);\n",
       "          }\n",
       "        };var js_urls = ['https://cdn.pydata.org/bokeh/release/bokeh-0.11.0.min.js', 'https://cdn.pydata.org/bokeh/release/bokeh-widgets-0.11.0.min.js', 'https://cdn.pydata.org/bokeh/release/bokeh-compiler-0.11.0.min.js'];\n",
       "      \n",
       "        var inline_js = [\n",
       "          function(Bokeh) {\n",
       "            Bokeh.set_log_level(\"info\");\n",
       "          },\n",
       "          function(Bokeh) {\n",
       "            console.log(\"Bokeh: injecting CSS: https://cdn.pydata.org/bokeh/release/bokeh-0.11.0.min.css\");\n",
       "            Bokeh.embed.inject_css(\"https://cdn.pydata.org/bokeh/release/bokeh-0.11.0.min.css\");\n",
       "            console.log(\"Bokeh: injecting CSS: https://cdn.pydata.org/bokeh/release/bokeh-widgets-0.11.0.min.css\");\n",
       "            Bokeh.embed.inject_css(\"https://cdn.pydata.org/bokeh/release/bokeh-widgets-0.11.0.min.css\");\n",
       "          }\n",
       "        ];\n",
       "      \n",
       "        function run_inline_js() {\n",
       "          for (var i = 0; i < inline_js.length; i++) {\n",
       "            inline_js[i](window.Bokeh);\n",
       "          }\n",
       "        }\n",
       "      \n",
       "        if (window._bokeh_is_loading === 0) {\n",
       "          console.log(\"Bokeh: BokehJS loaded, going straight to plotting\");\n",
       "          run_inline_js();\n",
       "        } else {\n",
       "          load_libs(js_urls, function() {\n",
       "            console.log(\"Bokeh: BokehJS plotting callback run at\", now());\n",
       "            run_inline_js();\n",
       "          });\n",
       "        }\n",
       "      }(this));\n",
       "    </script>\n",
       "    <div>\n",
       "        <a href=\"http://bokeh.pydata.org\" target=\"_blank\" class=\"bk-logo bk-logo-small bk-logo-notebook\"></a>\n",
       "        <span>BokehJS successfully loaded.</span>\n",
       "    </div>"
      ]
     },
     "metadata": {},
     "output_type": "display_data"
    }
   ],
   "source": [
    "import pandas, bokeh, bokeh.plotting, geopy, geopy.geocoders, jinja2\n",
    "bokeh.plotting.output_notebook(resources=bokeh.resources.CDN)"
   ]
  },
  {
   "cell_type": "code",
   "execution_count": 3,
   "metadata": {
    "collapsed": false
   },
   "outputs": [
    {
     "data": {
      "text/html": [
       "<div>\n",
       "<table border=\"1\" class=\"dataframe\">\n",
       "  <thead>\n",
       "    <tr style=\"text-align: right;\">\n",
       "      <th></th>\n",
       "      <th>Unnamed: 0</th>\n",
       "      <th>CAMIS</th>\n",
       "      <th>DBA</th>\n",
       "      <th>BORO</th>\n",
       "      <th>BUILDING</th>\n",
       "      <th>STREET</th>\n",
       "      <th>ZIPCODE</th>\n",
       "      <th>PHONE</th>\n",
       "      <th>CUISINE DESCRIPTION</th>\n",
       "      <th>INSPECTION DATE</th>\n",
       "      <th>ACTION</th>\n",
       "      <th>VIOLATION CODE</th>\n",
       "      <th>VIOLATION DESCRIPTION</th>\n",
       "      <th>CRITICAL FLAG</th>\n",
       "      <th>SCORE</th>\n",
       "      <th>GRADE</th>\n",
       "      <th>GRADE DATE</th>\n",
       "      <th>RECORD DATE</th>\n",
       "      <th>INSPECTION TYPE</th>\n",
       "    </tr>\n",
       "  </thead>\n",
       "  <tbody>\n",
       "    <tr>\n",
       "      <th>0</th>\n",
       "      <td>0</td>\n",
       "      <td>30075445</td>\n",
       "      <td>MORRIS PARK BAKE SHOP</td>\n",
       "      <td>BRONX</td>\n",
       "      <td>1007</td>\n",
       "      <td>MORRIS PARK AVE</td>\n",
       "      <td>10462</td>\n",
       "      <td>7188924968</td>\n",
       "      <td>Bakery</td>\n",
       "      <td>2015-02-09</td>\n",
       "      <td>Violations were cited in the following area(s).</td>\n",
       "      <td>06C</td>\n",
       "      <td>Food not protected from potential source of co...</td>\n",
       "      <td>Critical</td>\n",
       "      <td>6</td>\n",
       "      <td>A</td>\n",
       "      <td>2015-02-09</td>\n",
       "      <td>2015-08-14</td>\n",
       "      <td>Cycle Inspection / Initial Inspection</td>\n",
       "    </tr>\n",
       "    <tr>\n",
       "      <th>1</th>\n",
       "      <td>22</td>\n",
       "      <td>30112340</td>\n",
       "      <td>WENDY'S</td>\n",
       "      <td>BROOKLYN</td>\n",
       "      <td>469</td>\n",
       "      <td>FLATBUSH AVENUE                               ...</td>\n",
       "      <td>11225</td>\n",
       "      <td>7182875005</td>\n",
       "      <td>Hamburgers</td>\n",
       "      <td>2015-05-07</td>\n",
       "      <td>Violations were cited in the following area(s).</td>\n",
       "      <td>04A</td>\n",
       "      <td>Food Protection Certificate not held by superv...</td>\n",
       "      <td>Critical</td>\n",
       "      <td>12</td>\n",
       "      <td>A</td>\n",
       "      <td>2015-05-07</td>\n",
       "      <td>2015-08-14</td>\n",
       "      <td>Cycle Inspection / Initial Inspection</td>\n",
       "    </tr>\n",
       "  </tbody>\n",
       "</table>\n",
       "</div>"
      ],
      "text/plain": [
       "   Unnamed: 0     CAMIS                    DBA      BORO BUILDING  \\\n",
       "0           0  30075445  MORRIS PARK BAKE SHOP     BRONX     1007   \n",
       "1          22  30112340                WENDY'S  BROOKLYN      469   \n",
       "\n",
       "                                              STREET  ZIPCODE       PHONE  \\\n",
       "0                                    MORRIS PARK AVE    10462  7188924968   \n",
       "1  FLATBUSH AVENUE                               ...    11225  7182875005   \n",
       "\n",
       "  CUISINE DESCRIPTION INSPECTION DATE  \\\n",
       "0              Bakery      2015-02-09   \n",
       "1          Hamburgers      2015-05-07   \n",
       "\n",
       "                                            ACTION VIOLATION CODE  \\\n",
       "0  Violations were cited in the following area(s).            06C   \n",
       "1  Violations were cited in the following area(s).            04A   \n",
       "\n",
       "                               VIOLATION DESCRIPTION CRITICAL FLAG  SCORE  \\\n",
       "0  Food not protected from potential source of co...      Critical      6   \n",
       "1  Food Protection Certificate not held by superv...      Critical     12   \n",
       "\n",
       "  GRADE  GRADE DATE RECORD DATE                        INSPECTION TYPE  \n",
       "0     A  2015-02-09  2015-08-14  Cycle Inspection / Initial Inspection  \n",
       "1     A  2015-05-07  2015-08-14  Cycle Inspection / Initial Inspection  "
      ]
     },
     "execution_count": 3,
     "metadata": {},
     "output_type": "execute_result"
    }
   ],
   "source": [
    "df = pandas.read_csv('../_data/DOHNYC.csv', low_memory=False)\n",
    "df.head(2)"
   ]
  },
  {
   "cell_type": "code",
   "execution_count": 4,
   "metadata": {
    "collapsed": false
   },
   "outputs": [],
   "source": [
    "# Compose address string for OpenMaps\n",
    "addresses = False\n",
    "for col in ['BUILDING','STREET','BORO','NY','ZIPCODE']:\n",
    "    if not isinstance( addresses, pandas.Series):\n",
    "        addresses = df[col].apply( lambda v: str(v)) + ' ' \n",
    "    else:\n",
    "        addresses += (df[col].apply( lambda v: str(v)) if col in df.columns else col )+ ' ' \n",
    "addresses = addresses.unique() "
   ]
  },
  {
   "cell_type": "code",
   "execution_count": 5,
   "metadata": {
    "collapsed": false
   },
   "outputs": [],
   "source": [
    "# Request the augmented data\n",
    "geocoder = geopy.geocoders.Nominatim()\n",
    "addy_mapper = {}\n",
    "for address in addresses[:10]:\n",
    "    location = geocoder.geocode( address, addressdetails=True, language=True, )\n",
    "    if location and hasattr(location,'raw'):\n",
    "        addy_mapper[address] =  location.raw\n",
    "        for k, v in location.raw['address'].items():\n",
    "            addy_mapper[address][k] = v\n",
    "        del addy_mapper[address]['address']"
   ]
  },
  {
   "cell_type": "code",
   "execution_count": 6,
   "metadata": {
    "collapsed": false
   },
   "outputs": [],
   "source": [
    "d = pandas.DataFrame( addy_mapper ).transpose()"
   ]
  },
  {
   "cell_type": "code",
   "execution_count": 7,
   "metadata": {
    "collapsed": false
   },
   "outputs": [
    {
     "data": {
      "text/html": [
       "\n",
       "\n",
       "    <div class=\"plotdiv\" id=\"22a77f7f-4b82-4955-9ebe-b5d6442bf29a\"></div>\n",
       "<script type=\"text/javascript\">\n",
       "  \n",
       "  (function(global) {\n",
       "    function now() {\n",
       "      return new Date();\n",
       "    }\n",
       "  \n",
       "    if (typeof (window._bokeh_onload_callbacks) === \"undefined\") {\n",
       "      window._bokeh_onload_callbacks = [];\n",
       "    }\n",
       "  \n",
       "    function run_callbacks() {\n",
       "      window._bokeh_onload_callbacks.forEach(function(callback) { callback() });\n",
       "      delete window._bokeh_onload_callbacks\n",
       "      console.info(\"Bokeh: all callbacks have finished\");\n",
       "    }\n",
       "  \n",
       "    function load_libs(js_urls, callback) {\n",
       "      window._bokeh_onload_callbacks.push(callback);\n",
       "      if (window._bokeh_is_loading > 0) {\n",
       "        console.log(\"Bokeh: BokehJS is being loaded, scheduling callback at\", now());\n",
       "        return null;\n",
       "      }\n",
       "      if (js_urls == null || js_urls.length === 0) {\n",
       "        run_callbacks();\n",
       "        return null;\n",
       "      }\n",
       "      console.log(\"Bokeh: BokehJS not loaded, scheduling load and callback at\", now());\n",
       "      window._bokeh_is_loading = js_urls.length;\n",
       "      for (var i = 0; i < js_urls.length; i++) {\n",
       "        var url = js_urls[i];\n",
       "        var s = document.createElement('script');\n",
       "        s.src = url;\n",
       "        s.async = false;\n",
       "        s.onreadystatechange = s.onload = function() {\n",
       "          window._bokeh_is_loading--;\n",
       "          if (window._bokeh_is_loading === 0) {\n",
       "            console.log(\"Bokeh: all BokehJS libraries loaded\");\n",
       "            run_callbacks()\n",
       "          }\n",
       "        };\n",
       "        s.onerror = function() {\n",
       "          console.warn(\"failed to load library \" + url);\n",
       "        };\n",
       "        console.log(\"Bokeh: injecting script tag for BokehJS library: \", url);\n",
       "        document.getElementsByTagName(\"head\")[0].appendChild(s);\n",
       "      }\n",
       "    };var element = document.getElementById(\"22a77f7f-4b82-4955-9ebe-b5d6442bf29a\");\n",
       "    if (element == null) {\n",
       "      console.log(\"Bokeh: ERROR: autoload.js configured with elementid '22a77f7f-4b82-4955-9ebe-b5d6442bf29a' but no matching script tag was found. \")\n",
       "      return false;\n",
       "    }var js_urls = [];\n",
       "  \n",
       "    var inline_js = [\n",
       "      function(Bokeh) {\n",
       "        Bokeh.$(function() {\n",
       "            var docs_json = {\"209cea3a-163f-4cd3-bb09-0dc864f3dfcc\": {\"title\": \"Bokeh Application\", \"version\": \"0.11.0\", \"roots\": {\"references\": [{\"type\": \"ToolEvents\", \"id\": \"4902b34a-d280-4729-ad70-b935aec5ee05\", \"attributes\": {}}, {\"type\": \"Circle\", \"id\": \"cfebe46c-2897-494f-953f-43d4e973ba8d\", \"attributes\": {\"size\": {\"value\": 20, \"units\": \"screen\"}, \"y\": {\"field\": \"lat\"}, \"x\": {\"field\": \"lon\"}}}, {\"type\": \"DataRange1d\", \"id\": \"1cf59585-fa8a-41b6-a486-3b673051df96\", \"attributes\": {\"callback\": null}}, {\"type\": \"GMapPlot\", \"id\": \"ce8c17b7-806d-4586-be81-1365cc825f6c\", \"attributes\": {\"tool_events\": {\"type\": \"ToolEvents\", \"id\": \"4902b34a-d280-4729-ad70-b935aec5ee05\"}, \"title\": \"NYC Blech\", \"y_range\": {\"type\": \"DataRange1d\", \"id\": \"1cf59585-fa8a-41b6-a486-3b673051df96\"}, \"map_options\": {\"lat\": 40.69691891828704, \"lng\": -73.94224652436652, \"map_type\": \"roadmap\", \"zoom\": 11}, \"renderers\": [{\"type\": \"GlyphRenderer\", \"id\": \"21150765-20cc-45af-a8d4-fea0340f520a\"}], \"x_range\": {\"type\": \"DataRange1d\", \"id\": \"c0f30bf7-6e44-47fd-a193-4dd04ecd0024\"}, \"tools\": [{\"type\": \"HoverTool\", \"id\": \"52cc3f6a-0c94-4864-ac16-91b45e9e9b48\"}]}}, {\"type\": \"HoverTool\", \"id\": \"52cc3f6a-0c94-4864-ac16-91b45e9e9b48\", \"attributes\": {\"callback\": null, \"plot\": {\"type\": \"GMapPlot\", \"id\": \"ce8c17b7-806d-4586-be81-1365cc825f6c\"}, \"renderers\": [{\"type\": \"GlyphRenderer\", \"id\": \"21150765-20cc-45af-a8d4-fea0340f520a\"}], \"tooltips\": \"<table><tr><th>boundingbox</th><td>@boundingbox</td></tr><tr><th>city</th><td>@city</td></tr><tr><th>class</th><td>@class</td></tr><tr><th>country</th><td>@country</td></tr><tr><th>country_code</th><td>@country_code</td></tr><tr><th>county</th><td>@county</td></tr><tr><th>display_name</th><td>@display_name</td></tr><tr><th>hamlet</th><td>@hamlet</td></tr><tr><th>house_number</th><td>@house_number</td></tr><tr><th>importance</th><td>@importance</td></tr><tr><th>lat</th><td>@lat</td></tr><tr><th>licence</th><td>@licence</td></tr><tr><th>lon</th><td>@lon</td></tr><tr><th>neighbourhood</th><td>@neighbourhood</td></tr><tr><th>osm_id</th><td>@osm_id</td></tr><tr><th>osm_type</th><td>@osm_type</td></tr><tr><th>place_id</th><td>@place_id</td></tr><tr><th>postcode</th><td>@postcode</td></tr><tr><th>road</th><td>@road</td></tr><tr><th>state</th><td>@state</td></tr><tr><th>suburb</th><td>@suburb</td></tr><tr><th>type</th><td>@type</td></tr></table>\"}}, {\"type\": \"GlyphRenderer\", \"id\": \"21150765-20cc-45af-a8d4-fea0340f520a\", \"attributes\": {\"selection_glyph\": null, \"nonselection_glyph\": null, \"glyph\": {\"type\": \"Circle\", \"id\": \"cfebe46c-2897-494f-953f-43d4e973ba8d\"}, \"data_source\": {\"type\": \"ColumnDataSource\", \"id\": \"84e1dffa-23f6-410d-a7a7-0828147ae238\"}, \"hover_glyph\": null}}, {\"type\": \"ColumnDataSource\", \"id\": \"84e1dffa-23f6-410d-a7a7-0828147ae238\", \"attributes\": {\"callback\": null, \"column_names\": [\"hamlet\", \"importance\", \"lat\", \"licence\", \"road\", \"postcode\", \"suburb\", \"osm_type\", \"osm_id\", \"country\", \"place_id\", \"index\", \"class\", \"display_name\", \"country_code\", \"boundingbox\", \"house_number\", \"type\", \"lon\", \"county\", \"neighbourhood\", \"state\", \"city\"], \"data\": {\"hamlet\": [\"nan\", \"nan\", \"Todt Hill\", \"nan\", \"nan\", \"nan\", \"nan\", \"nan\"], \"importance\": [0.501, 0.401, 0.501, 0.401, 0.301, 0.401, 0.301, 0.5], \"class\": [\"building\", \"place\", \"place\", \"place\", \"building\", \"building\", \"building\", \"highway\"], \"licence\": [\"Data \\u00a9 OpenStreetMap contributors, ODbL 1.0. http://www.openstreetmap.org/copyright\", \"Data \\u00a9 OpenStreetMap contributors, ODbL 1.0. http://www.openstreetmap.org/copyright\", \"Data \\u00a9 OpenStreetMap contributors, ODbL 1.0. http://www.openstreetmap.org/copyright\", \"Data \\u00a9 OpenStreetMap contributors, ODbL 1.0. http://www.openstreetmap.org/copyright\", \"Data \\u00a9 OpenStreetMap contributors, ODbL 1.0. http://www.openstreetmap.org/copyright\", \"Data \\u00a9 OpenStreetMap contributors, ODbL 1.0. http://www.openstreetmap.org/copyright\", \"Data \\u00a9 OpenStreetMap contributors, ODbL 1.0. http://www.openstreetmap.org/copyright\", \"Data \\u00a9 OpenStreetMap contributors, ODbL 1.0. http://www.openstreetmap.org/copyright\"], \"road\": [\"Morris Park Avenue\", \"Nostrand Avenue\", \"Victory Boulevard\", \"Southern Boulevard\", \"Stillwell Avenue\", \"Flatbush Avenue\", \"Avenue U\", \"Astoria Boulevard\"], \"postcode\": [\"10462\", \"11226\", \"10314\", \"10460\", \"11224\", \"11225\", \"11234\", \"11369\"], \"city\": [\"NYC\", \"NYC\", \"NYC\", \"NYC\", \"NYC\", \"NYC\", \"NYC\", \"NYC\"], \"osm_type\": [\"way\", \"node\", \"nan\", \"nan\", \"way\", \"way\", \"way\", \"way\"], \"osm_id\": [\"281729442\", \"2566284907\", \"nan\", \"nan\", \"248496017\", \"250230605\", \"250019324\", \"183104122\"], \"country\": [\"United States of America\", \"United States of America\", \"United States of America\", \"United States of America\", \"United States of America\", \"United States of America\", \"United States of America\", \"United States of America\"], \"place_id\": [\"124316175\", \"27116014\", \"1682481024\", \"1649499819\", \"116658030\", \"120297608\", \"121392763\", \"102706920\"], \"index\": [\"1007 MORRIS PARK AVE BRONX NY 10462 \", \"1839 NOSTRAND AVENUE BROOKLYN NY 11226 \", \"2206 VICTORY BOULEVARD                                  STATEN ISLAND NY 10314 \", \"2300 SOUTHERN BOULEVARD                                 BRONX NY 10460 \", \"2780 STILLWELL AVENUE BROOKLYN NY 11224 \", \"469 FLATBUSH AVENUE                                    BROOKLYN NY 11225 \", \"7114 AVENUE U BROOKLYN NY 11234 \", \"8825 ASTORIA BOULEVARD QUEENS NY 11369 \"], \"display_name\": [\"1007, Morris Park Avenue, Westchester, Bronx, Bronx County, NYC, New York, 10462, United States of America\", \"1839, Nostrand Avenue, Ditmas Park, Brooklyn, Kings County, NYC, New York, 11226, United States of America\", \"2206, Victory Boulevard, Willowbrook, Staten Island, Todt Hill, Richmond County, NYC, New York, 10314, United States of America\", \"2300, Southern Boulevard, Belmont, Bronx, Bronx County, NYC, New York, 10460, United States of America\", \"2780, Stillwell Avenue, Coney Island, Kings County, NYC, New York, 11224, United States of America\", \"469, Flatbush Avenue, Flatbush, Brooklyn, Kings County, NYC, New York, 11225, United States of America\", \"7114, Avenue U, Bergen Beach, Kings County, NYC, New York, 11234, United States of America\", \"Astoria Boulevard, East Elmhurst, Queens County, NYC, New York, 11369, United States of America\"], \"country_code\": [\"us\", \"us\", \"us\", \"us\", \"us\", \"us\", \"us\", \"us\"], \"boundingbox\": [[\"40.848355\", \"40.8486259\", \"-73.8562138\", \"-73.8559648\"], [\"40.6407757\", \"40.6408757\", \"-73.9483959\", \"-73.9482959\"], [\"40.611966296296\", \"40.612066296296\", \"-74.137052222222\", \"-74.136952222222\"], [\"40.85061\", \"40.85071\", \"-73.882596\", \"-73.882496\"], [\"40.5794379\", \"40.5795983\", \"-73.9826803\", \"-73.9821717\"], [\"40.6628164\", \"40.6630216\", \"-73.9618865\", \"-73.9615649\"], [\"40.6197828\", \"40.6200143\", \"-73.9069954\", \"-73.9067197\"], [\"40.7600806\", \"40.7616911\", \"-73.8671236\", \"-73.8592493\"]], \"house_number\": [\"1007\", \"1839\", \"2206\", \"2300\", \"2780\", \"469\", \"7114\", \"nan\"], \"type\": [\"yes\", \"house\", \"house\", \"house\", \"yes\", \"yes\", \"yes\", \"primary\"], \"lon\": [\"-73.8561234195114\", \"-73.9483459\", \"-74.1370022222222\", \"-73.882546\", \"-73.9824264038087\", \"-73.9617256983564\", \"-73.9068501510335\", \"-73.8629524\"], \"lat\": [\"40.84853745\", \"40.6408257\", \"40.6120162962963\", \"40.85066\", \"40.57952565\", \"40.66293035\", \"40.619892\", \"40.7609639\"], \"county\": [\"Bronx County\", \"Kings County\", \"Richmond County\", \"Bronx County\", \"Kings County\", \"Kings County\", \"Kings County\", \"Queens County\"], \"neighbourhood\": [\"Westchester\", \"Ditmas Park\", \"Willowbrook\", \"Belmont\", \"Coney Island\", \"Flatbush\", \"Bergen Beach\", \"East Elmhurst\"], \"state\": [\"New York\", \"New York\", \"New York\", \"New York\", \"New York\", \"New York\", \"New York\", \"New York\"], \"suburb\": [\"Bronx\", \"Brooklyn\", \"Staten Island\", \"Bronx\", \"nan\", \"Brooklyn\", \"nan\", \"nan\"]}}}, {\"type\": \"DataRange1d\", \"id\": \"c0f30bf7-6e44-47fd-a193-4dd04ecd0024\", \"attributes\": {\"callback\": null}}], \"root_ids\": [\"ce8c17b7-806d-4586-be81-1365cc825f6c\"]}}};\n",
       "            var render_items = [{\"notebook_comms_target\": \"c2c69e16-e3ee-48c4-bb5f-548b11d626dd\", \"modelid\": \"ce8c17b7-806d-4586-be81-1365cc825f6c\", \"docid\": \"209cea3a-163f-4cd3-bb09-0dc864f3dfcc\", \"elementid\": \"22a77f7f-4b82-4955-9ebe-b5d6442bf29a\"}];\n",
       "            \n",
       "            Bokeh.embed.embed_items(docs_json, render_items);\n",
       "        });\n",
       "      },\n",
       "      function(Bokeh) {\n",
       "      }\n",
       "    ];\n",
       "  \n",
       "    function run_inline_js() {\n",
       "      for (var i = 0; i < inline_js.length; i++) {\n",
       "        inline_js[i](window.Bokeh);\n",
       "      }\n",
       "    }\n",
       "  \n",
       "    if (window._bokeh_is_loading === 0) {\n",
       "      console.log(\"Bokeh: BokehJS loaded, going straight to plotting\");\n",
       "      run_inline_js();\n",
       "    } else {\n",
       "      load_libs(js_urls, function() {\n",
       "        console.log(\"Bokeh: BokehJS plotting callback run at\", now());\n",
       "        run_inline_js();\n",
       "      });\n",
       "    }\n",
       "  }(this));\n",
       "</script>"
      ]
     },
     "metadata": {},
     "output_type": "display_data"
    },
    {
     "data": {
      "text/plain": [
       "<bokeh.io._CommsHandle at 0x109abee80>"
      ]
     },
     "execution_count": 7,
     "metadata": {},
     "output_type": "execute_result"
    }
   ],
   "source": [
    "p = bokeh.models.GMapPlot(x_range=bokeh.models.DataRange1d(),y_range=bokeh.models.DataRange1d(),title='NYC Blech',\n",
    "    map_options=bokeh.models.GMapOptions(\n",
    "        lat=d['lat'].apply(lambda v: float(v)).mean(), lng=d['lon'].apply(lambda v: float(v)).mean(), map_type=\"roadmap\", zoom=11\n",
    "    ))\n",
    "source = bokeh.plotting.ColumnDataSource(d)\n",
    "renderer = p.add_glyph(source, bokeh.models.Circle(x='lon',y='lat',size=20))\n",
    "p.add_tools( bokeh.models.HoverTool(renderers=[renderer],tooltips='<table>'+''.join(['<tr><th>'+c +'</th><td>@'+c+'</td></tr>' for c in d.columns])+'</table>'))\n",
    "bokeh.plotting.show(p)"
   ]
  },
  {
   "cell_type": "code",
   "execution_count": null,
   "metadata": {
    "collapsed": true
   },
   "outputs": [],
   "source": []
  }
 ],
 "metadata": {
  "kernelspec": {
   "display_name": "Python 3",
   "language": "python",
   "name": "python3"
  },
  "language_info": {
   "codemirror_mode": {
    "name": "ipython",
    "version": 3
   },
   "file_extension": ".py",
   "mimetype": "text/x-python",
   "name": "python",
   "nbconvert_exporter": "python",
   "pygments_lexer": "ipython3",
   "version": "3.5.1"
  }
 },
 "nbformat": 4,
 "nbformat_minor": 0
}
